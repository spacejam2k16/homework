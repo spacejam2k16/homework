{
 "cells": [
  {
   "cell_type": "markdown",
   "metadata": {},
   "source": [
    "**Homework Week 4**\n",
    "**Media Practices: Programming**\n",
    "This assignment is mostly about practicing manipulating images and scraping data out of webpages in python. \n"
   ]
  },
  {
   "cell_type": "markdown",
   "metadata": {
    "collapsed": true
   },
   "source": [
    "- Read in data/cc_cat.png\n",
    "- Divide the image into 9 rectangles (3x3)\n",
    "- for the three rectangles row 0 apply a different filter from ImageFilter module\n",
    "- for the three rectangles row 1 apply a different image operation from ImageOps module\n",
    "- for rectangle 0 on row 3, rotate the rectangle 180 degrees\n",
    "- for rectangle 1 on row 3, flip the rectangle vertically\n",
    "- for rectangle 2 on row 3, flip the rectangle horizontally\n"
   ]
  },
  {
   "cell_type": "code",
   "execution_count": 141,
   "metadata": {
    "collapsed": false
   },
   "outputs": [],
   "source": [
    "from PIL import Image\n",
    "from PIL import ImageFilter\n",
    "from PIL import ImageOps\n",
    "cat_pic = Image.open(\"data/cc_cat.png\")\n",
    "sqrimg1 = cat_pic.crop((0, 0, 111, 167))\n",
    "sqrimg1out = sqrimg1.filter(ImageFilter.BLUR)\n",
    "sqrimg1out.show()\n",
    "\n",
    "\n"
   ]
  },
  {
   "cell_type": "code",
   "execution_count": 136,
   "metadata": {
    "collapsed": false
   },
   "outputs": [],
   "source": [
    "sqrimg2 = cat_pic.crop((112, 0, 222, 167))\n",
    "sqrimg2out = sqrimg2.filter(ImageFilter.CONTOUR)\n",
    "sqrimg2out.show()"
   ]
  },
  {
   "cell_type": "code",
   "execution_count": 137,
   "metadata": {
    "collapsed": false
   },
   "outputs": [],
   "source": [
    "sqrimg3 = cat_pic.crop((223, 0, 333, 167))\n",
    "sqrimg3out = sqrimg3.filter(ImageFilter.SMOOTH)\n",
    "sqrimg3.show()"
   ]
  },
  {
   "cell_type": "code",
   "execution_count": 158,
   "metadata": {
    "collapsed": false
   },
   "outputs": [],
   "source": [
    "sqrimg4 = cat_pic.crop((0, 168, 111, 334))\n",
    "sqrimg4out = ImageOps.grayscale(sqrimg4)\n",
    "sqrimg4out.show()"
   ]
  },
  {
   "cell_type": "code",
   "execution_count": 177,
   "metadata": {
    "collapsed": false
   },
   "outputs": [],
   "source": [
    "sqrimg5 = cat_pic.crop((111, 167, 222, 334))\n",
    "sqrimg5out = ImageOps.autocontrast(sqrimg5, cutoff=250, ignore=0)\n",
    "sqrimg5out.show()"
   ]
  },
  {
   "cell_type": "code",
   "execution_count": 178,
   "metadata": {
    "collapsed": true
   },
   "outputs": [],
   "source": [
    "sqrimg6 = cat_pic.crop((223, 167, 333, 334))\n",
    "sqrimg6out = ImageOps.expand(sqrimg6,border = 10, fill = 0)\n",
    "sqrimg6out.show()"
   ]
  },
  {
   "cell_type": "code",
   "execution_count": 180,
   "metadata": {
    "collapsed": true
   },
   "outputs": [],
   "source": [
    "sqrimg7 = cat_pic.crop((0, 335, 111, 500))\n",
    "sqrimg7out= sqrimg7.rotate(180, resample=0, expand=0)\n",
    "sqrimg7out.show()\n"
   ]
  },
  {
   "cell_type": "code",
   "execution_count": 184,
   "metadata": {
    "collapsed": true
   },
   "outputs": [],
   "source": [
    "sqrimg8 = cat_pic.crop((112, 334, 222, 500))\n",
    "sqrimg8out = ImageOps.flip(sqrimg8)\n",
    "sqrimg8out.show()"
   ]
  },
  {
   "cell_type": "code",
   "execution_count": 183,
   "metadata": {
    "collapsed": false
   },
   "outputs": [],
   "source": [
    "sqrimg9 = cat_pic.crop((223, 334, 333, 500))\n",
    "sqrimg9out = ImageOps.mirror(sqrimg9)\n",
    "sqrimg9out.show()"
   ]
  },
  {
   "cell_type": "markdown",
   "metadata": {
    "collapsed": true
   },
   "source": [
    "**Dictionaries**\n",
    "Given the data below:\n",
    "- Make a dictionary of all prices over 200\n",
    "- Print the keys from that dictionary\n",
    "- Make a dictionary of tech stocks\n",
    "- Print the average price of tech shaares"
   ]
  },
  {
   "cell_type": "code",
   "execution_count": 8,
   "metadata": {
    "collapsed": false
   },
   "outputs": [
    {
     "name": "stdout",
     "output_type": "stream",
     "text": [
      "\n"
     ]
    }
   ],
   "source": [
    "prices = {\n",
    "   'ACME': 45.23,\n",
    "   'AAPL': 612.78,\n",
    "   'IBM': 205.55,\n",
    "   'HPQ': 37.20,\n",
    "   'FB': 10.75\n",
    "}\n",
    "tech_names = { 'AAPL', 'IBM', 'HPQ', 'MSFT' }\n",
    "\n",
    "print\n"
   ]
  },
  {
   "cell_type": "code",
   "execution_count": 44,
   "metadata": {
    "collapsed": false
   },
   "outputs": [
    {
     "name": "stdout",
     "output_type": "stream",
     "text": [
      "{'AAPL': 612.78, 'IBM': 205.55}\n",
      "{'AAPL': 612.78, 'IBM': 205.55}\n"
     ]
    }
   ],
   "source": [
    "highprices = {\n",
    "    'AAPL': 612.78,\n",
    "   'IBM': 205.55,}\n",
    "print high_prices\n",
    "\n",
    "highpricesredux = { key:value for key,value in prices.items() if value > 200}\n",
    "print highpricesredux"
   ]
  },
  {
   "cell_type": "code",
   "execution_count": 48,
   "metadata": {
    "collapsed": false,
    "scrolled": true
   },
   "outputs": [
    {
     "name": "stdout",
     "output_type": "stream",
     "text": [
      "AAPL\n",
      "IBM\n"
     ]
    }
   ],
   "source": [
    "for key,value in highpricesredux.items() :\n",
    "    if key in highpricesredux :\n",
    "        print key\n"
   ]
  },
  {
   "cell_type": "code",
   "execution_count": 51,
   "metadata": {
    "collapsed": false
   },
   "outputs": [],
   "source": [
    "tech_stocks = { key:value for key,value in prices.items() if key in tech_names }"
   ]
  },
  {
   "cell_type": "code",
   "execution_count": 68,
   "metadata": {
    "collapsed": false
   },
   "outputs": [
    {
     "name": "stdout",
     "output_type": "stream",
     "text": [
      "{'HPQ': 37.2, 'AAPL': 612.78, 'IBM': 205.55}\n"
     ]
    }
   ],
   "source": [
    "print tech_stocks"
   ]
  },
  {
   "cell_type": "code",
   "execution_count": 67,
   "metadata": {
    "collapsed": false
   },
   "outputs": [
    {
     "name": "stdout",
     "output_type": "stream",
     "text": [
      "718.496666667\n"
     ]
    }
   ],
   "source": [
    "print tech_stocks['HPQ'] + tech_stocks['AAPL'] + tech_stocks['IBM']/3"
   ]
  },
  {
   "cell_type": "markdown",
   "metadata": {},
   "source": [
    "**Web scraping.**\n",
    "- Add comments about what's going on here. \n",
    "- Then create a dictionary called sales that has a buyers as keys and prices as values"
   ]
  },
  {
   "cell_type": "code",
   "execution_count": 70,
   "metadata": {
    "collapsed": false
   },
   "outputs": [
    {
     "name": "stdout",
     "output_type": "stream",
     "text": [
      "Buyers:  ['Carson Busses', 'Earl E. Byrd', 'Patty Cakes', 'Derri Anne Connecticut', 'Moe Dess', 'Leda Doggslife', 'Dan Druff', 'Al Fresco', 'Ido Hoe', 'Howie Kisses', 'Len Lease', 'Phil Meup', 'Ira Pent', 'Ben D. Rules', 'Ave Sectomy', 'Gary Shattire', 'Bobbi Soks', 'Sheila Takya', 'Rose Tattoo', 'Moe Tell']\n",
      "Prices:  ['$29.95', '$8.37', '$15.26', '$19.25', '$19.25', '$13.99', '$31.57', '$8.49', '$14.47', '$15.86', '$11.11', '$15.98', '$16.27', '$7.50', '$50.85', '$14.26', '$5.68', '$15.00', '$114.07', '$10.09']\n"
     ]
    }
   ],
   "source": [
    "from lxml import html #coming from a library and going to an html\n",
    "import requests # importing request module\n",
    "page = requests.get('http://econpy.pythonanywhere.com/ex/001.html') #assigning page to get url\n",
    "tree = html.fromstring(page.text) #pulling html into string\n",
    "#This will create a list of buyers:\n",
    "buyers = tree.xpath('//div[@title=\"buyer-name\"]/text()')\n",
    "#This will create a list of prices\n",
    "prices = tree.xpath('//span[@class=\"item-price\"]/text()')\n",
    "print 'Buyers: ', buyers #displaying buyers from website\n",
    "print 'Prices: ', prices #displaying prices from website"
   ]
  },
  {
   "cell_type": "code",
   "execution_count": 185,
   "metadata": {
    "collapsed": false
   },
   "outputs": [
    {
     "name": "stdout",
     "output_type": "stream",
     "text": [
      "{'Leda Doggslife': '$29.95', 'Carson Busses': '$8.37', 'Derri Anne Connecticut': '$15.26', 'Bobbi Soks': '$19.25', 'Ben D. Rules': '$15.98', 'Patty Cakes': '$13.99', 'Ira Pent': '$14.47', 'Moe Tell': '$8.49', 'Ido Hoe': '$31.57', 'Ave Sectomy': '$15.86', 'Phil Meup': '$11.11', 'Al Fresco': '$19.25', 'Moe Dess': '$16.27', 'Sheila Takya': '$7.50', 'Len Lease': '$50.85', 'Rose Tattoo': '$10.09', 'Gary Shattire': '$5.68', 'Earl E. Byrd': '$15.00', 'Howie Kisses': '$114.07', 'Dan Druff': '$14.26'}\n"
     ]
    }
   ],
   "source": [
    "dictionary = dict(zip(buyers,prices))\n",
    "print dictionary\n",
    "   "
   ]
  },
  {
   "cell_type": "markdown",
   "metadata": {},
   "source": [
    "This is mostly to see if BeautifulSoup is installed properly.  use www.newschool.edu as the input url\n",
    "\n",
    "If your system doesn't recognize beautifulSoup then you will need to type\n",
    "\n",
    "> conda install beautifulsoup4 \n",
    "\n",
    "in a terminal"
   ]
  },
  {
   "cell_type": "code",
   "execution_count": 83,
   "metadata": {
    "collapsed": false
   },
   "outputs": [
    {
     "name": "stdout",
     "output_type": "stream",
     "text": [
      "Enter a website to extract the URL's from: www.newschool.edu\n",
      "#top\n",
      "None\n",
      "None\n",
      "#\n",
      "/admission/apply-online/\n",
      "/about/contact/\n",
      "https://my.newschool.edu/\n",
      "/about/campus-map/\n",
      "http://courses.newschool.edu\n",
      "/directory/\n",
      "/about/resources-services/\n",
      "/prospective-student-info/\n",
      "/student-info/\n",
      "/parent-info/\n",
      "/alumni-info/\n",
      "/giving/\n",
      "/faculty-info/\n",
      "/employee-info/\n",
      "/parsons/\n",
      "/lang/\n",
      "/performing-arts/\n",
      "/mannes/\n",
      "/jazz/\n",
      "/drama/\n",
      "/nssr/\n",
      "/parsons-paris/\n",
      "/public-engagement/milano-school/\n",
      "/public-engagement/school-of-media-studies/\n",
      "/public-engagement/bachelors-program/\n",
      "/public-engagement/mfa-creative-writing/\n",
      "/public-engagement/school-of-language-learning-teaching/\n",
      "http://social.newschool.edu\n",
      "http://form.jotformpro.com/form/23346135072952\n",
      "#\n",
      "#\n",
      "/\n",
      "/academics/?trigger=design\n",
      "/academics/?trigger=liberal-arts\n",
      "/academics/?trigger=business\n",
      "/academics/?trigger=media\n",
      "/academics/?trigger=performing-arts\n",
      "/academics/?trigger=social-sciences\n",
      "#\n",
      "/about/\n",
      "/academics/\n",
      "/admission/\n",
      "http://events.newschool.edu\n",
      "/giving/\n",
      "http://blogs.newschool.edu/news/\n",
      "http://social.newschool.edu\n",
      "/about/?trigger=video\n",
      "http://blogs.newschool.edu/news/2015/04/parsons-named-best-art-and-design-school-in-the-country/#.VV4JlWRVhBd\n",
      "http://www.newschool.edu/mannes/on-the-move/\n",
      "http://blogs.newschool.edu/news/2015/10/the-new-school-remembers-julien-j-studley/#.ViAER2SrSsq\n",
      "http://blogs.newschool.edu/news/2015/08/lang-lands-on-princeton-reviews-best-college-list/#.VcthcJ1VhBc\n",
      "http://www.newschool.edu/admission/graduate-events/\n",
      "http://blogs.newschool.edu/tedc/2015/10/05/tedc-brings-climatecitizen-to-sxsw-eco/\n",
      "http://www.publicseminar.org/2015/10/just-a-peaceful-quartet/#.Vh8pTIEeLTR\n",
      "http://blogs.newschool.edu/news/2015/09/media-studies-celebrates-40-years/#.VfiMY2RVhBc\n",
      "http://www.newschool.edu/admission/#virtualtour\n"
     ]
    }
   ],
   "source": [
    "from bs4 import BeautifulSoup\n",
    "\n",
    "import requests\n",
    "\n",
    "url = raw_input(\"Enter a website to extract the URL's from: \")\n",
    "\n",
    "r  = requests.get(\"http://\" +url)\n",
    "\n",
    "data = r.text\n",
    "\n",
    "soup = BeautifulSoup(data)\n",
    "\n",
    "for link in soup.find_all('a'):\n",
    "    print(link.get('href'))"
   ]
  },
  {
   "cell_type": "code",
   "execution_count": null,
   "metadata": {
    "collapsed": true
   },
   "outputs": [],
   "source": []
  }
 ],
 "metadata": {
  "kernelspec": {
   "display_name": "Python 2",
   "language": "python",
   "name": "python2"
  },
  "language_info": {
   "codemirror_mode": {
    "name": "ipython",
    "version": 2
   },
   "file_extension": ".py",
   "mimetype": "text/x-python",
   "name": "python",
   "nbconvert_exporter": "python",
   "pygments_lexer": "ipython2",
   "version": "2.7.10"
  }
 },
 "nbformat": 4,
 "nbformat_minor": 0
}
